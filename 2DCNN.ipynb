{
  "nbformat": 4,
  "nbformat_minor": 5,
  "metadata": {
    "kernelspec": {
      "display_name": "Python 3",
      "language": "python",
      "name": "python3"
    },
    "language_info": {
      "codemirror_mode": {
        "name": "ipython",
        "version": 3
      },
      "file_extension": ".py",
      "mimetype": "text/x-python",
      "name": "python",
      "nbconvert_exporter": "python",
      "pygments_lexer": "ipython3",
      "version": "3.8.8"
    },
    "colab": {
      "name": "2DCNN.ipynb",
      "provenance": [],
      "collapsed_sections": [],
      "include_colab_link": true
    }
  },
  "cells": [
    {
      "cell_type": "markdown",
      "metadata": {
        "id": "view-in-github",
        "colab_type": "text"
      },
      "source": [
        "<a href=\"https://colab.research.google.com/github/aj1365/DeepForestPaper/blob/main/2DCNN.ipynb\" target=\"_parent\"><img src=\"https://colab.research.google.com/assets/colab-badge.svg\" alt=\"Open In Colab\"/></a>"
      ]
    },
    {
      "cell_type": "code",
      "metadata": {
        "id": "f04960f0"
      },
      "source": [
        "######################################### Connecting to Google Drive\n",
        "\n",
        "from google.colab import drive\n",
        "drive.mount('/content/drive')"
      ],
      "id": "f04960f0",
      "execution_count": null,
      "outputs": []
    },
    {
      "cell_type": "code",
      "metadata": {
        "id": "_hRUKKp6jtBl"
      },
      "source": [
        "%cd /content/drive/MyDrive/DForest"
      ],
      "id": "_hRUKKp6jtBl",
      "execution_count": null,
      "outputs": []
    },
    {
      "cell_type": "code",
      "metadata": {
        "id": "ZVmViwMEjpgw"
      },
      "source": [
        "####################################### importing libraries for reading matlab files\n",
        "\n",
        "from scipy import io\n",
        "import numpy as np"
      ],
      "id": "ZVmViwMEjpgw",
      "execution_count": null,
      "outputs": []
    },
    {
      "cell_type": "code",
      "metadata": {
        "id": "9a639c3e"
      },
      "source": [
        "####################################### importing matlab images as cell files\n",
        "\n",
        "C = io.loadmat('DataX.mat')['TrainX']\n",
        "\n",
        "##print( type(C))\n",
        "#print( C.keys())\n",
        "#C = C['X_train']\n",
        "print (type(C))"
      ],
      "id": "9a639c3e",
      "execution_count": null,
      "outputs": []
    },
    {
      "cell_type": "code",
      "metadata": {
        "id": "2dfc6cba"
      },
      "source": [
        "#################################### reshaping images\n",
        "C = np.squeeze(C)\n",
        "X = np.empty((C.shape[0], C[0].shape[0], C[0].shape[1],C[0].shape[2]))\n",
        "\n",
        "for i in range(X.shape[0]):\n",
        "    X[i] = C[i]\n",
        "\n",
        "features=X\n",
        "features.shape"
      ],
      "id": "2dfc6cba",
      "execution_count": null,
      "outputs": []
    },
    {
      "cell_type": "code",
      "metadata": {
        "id": "1d2ffc7a"
      },
      "source": [
        "#################################################### Visualize each patch of 7 by 7 \n",
        "import matplotlib.pyplot as plt\n",
        "#fig, ax=plt.subplots(figsize=(10,10))\n",
        "#ax.imshow(X_Train[0,:,:,0])\n",
        "\n",
        "fig = plt.figure(figsize = (20, 12))\n",
        "\n",
        "ax = fig.subplots(2, 4)\n",
        "c=0\n",
        "\n",
        "for i in range(2):\n",
        "  for j in range(4):\n",
        "    ax[i][j].imshow(features[0,:,:,c], cmap='nipy_spectral')\n",
        "    ax[i][j].axis('off')\n",
        "    ax[i][j].title.set_text(f\"Band - {c}\")\n",
        "    c+=1\n",
        "\n",
        "plt.tight_layout()\n",
        "plt.show()"
      ],
      "id": "1d2ffc7a",
      "execution_count": null,
      "outputs": []
    },
    {
      "cell_type": "code",
      "metadata": {
        "id": "ae1ffed3"
      },
      "source": [
        "C2 = io.loadmat('DataY.mat')['TrainY']\n",
        "\n",
        "print (type(C2))\n",
        "Labels=C2\n",
        "Labels.shape"
      ],
      "id": "ae1ffed3",
      "execution_count": null,
      "outputs": []
    },
    {
      "cell_type": "code",
      "metadata": {
        "id": "4615c963"
      },
      "source": [
        "from sklearn.model_selection import train_test_split\n",
        "\n",
        "X_train, X_test, y_train, y_test = train_test_split(features,\n",
        "                                                   Labels,\n",
        "                                                    stratify=Labels,\n",
        "                                                    test_size=0.50,\n",
        "                                                    random_state=0)\n",
        "y_train=y_train-1\n",
        "y_test=y_test-1"
      ],
      "id": "4615c963",
      "execution_count": null,
      "outputs": []
    },
    {
      "cell_type": "code",
      "metadata": {
        "id": "e2fbac02"
      },
      "source": [
        "X_train.shape, X_test.shape"
      ],
      "id": "e2fbac02",
      "execution_count": null,
      "outputs": []
    },
    {
      "cell_type": "code",
      "metadata": {
        "id": "602edcd2"
      },
      "source": [
        "X_train, X_validation, y_train, y_validation = train_test_split(X_train,\n",
        "                                                   y_train,\n",
        "                                                    stratify=y_train,\n",
        "                                                    test_size=0.3,\n",
        "                                                    random_state=0)"
      ],
      "id": "602edcd2",
      "execution_count": null,
      "outputs": []
    },
    {
      "cell_type": "code",
      "metadata": {
        "id": "ac8b3c75"
      },
      "source": [
        "X_train.shape, X_validation.shape"
      ],
      "id": "ac8b3c75",
      "execution_count": null,
      "outputs": []
    },
    {
      "cell_type": "code",
      "metadata": {
        "id": "a4359839"
      },
      "source": [
        "pip install plotly"
      ],
      "id": "a4359839",
      "execution_count": null,
      "outputs": []
    },
    {
      "cell_type": "code",
      "metadata": {
        "id": "b329a720"
      },
      "source": [
        "pip install keras"
      ],
      "id": "b329a720",
      "execution_count": null,
      "outputs": []
    },
    {
      "cell_type": "code",
      "metadata": {
        "id": "6841a904"
      },
      "source": [
        "pip install tensorflow"
      ],
      "id": "6841a904",
      "execution_count": null,
      "outputs": []
    },
    {
      "cell_type": "code",
      "metadata": {
        "id": "bcb50c42"
      },
      "source": [
        "import pandas as pd\n",
        "import plotly.graph_objects as go\n",
        "from keras.models import Sequential\n",
        "from keras.layers import Dense, Conv2D, Flatten, LeakyReLU, MaxPooling2D, Dropout"
      ],
      "id": "bcb50c42",
      "execution_count": null,
      "outputs": []
    },
    {
      "cell_type": "code",
      "metadata": {
        "id": "10c61538"
      },
      "source": [
        "###################################### Creating the CNN model\n",
        "\n",
        "model = Sequential()\n",
        "model.add(Conv2D(64, kernel_size=(2, 2),activation='linear',padding='same',input_shape=(7,7,28)))\n",
        "model.add(LeakyReLU(alpha=0.1))\n",
        "model.add(MaxPooling2D((2, 2),padding='same'))\n",
        "model.add(Conv2D(128, (3, 3), activation='linear',padding='same'))\n",
        "model.add(LeakyReLU(alpha=0.1))\n",
        "model.add(MaxPooling2D(pool_size=(2, 2),padding='same'))\n",
        "model.add(Conv2D(256, (3, 3), activation='linear',padding='same'))\n",
        "model.add(LeakyReLU(alpha=0.1))\n",
        "model.add(MaxPooling2D(pool_size=(2, 2),padding='same'))\n",
        "model.add(Conv2D(512, (3, 3), activation='linear',padding='same'))\n",
        "model.add(LeakyReLU(alpha=0.1))                  \n",
        "model.add(MaxPooling2D(pool_size=(2, 2),padding='same'))\n",
        "model.add(Flatten())\n",
        "model.add(Dense(20, activation='linear'))\n",
        "model.add(LeakyReLU(alpha=0.1))           \n",
        "model.add(Dropout(0.3))\n",
        "model.add(Dense(8, activation='softmax'))\n",
        "model.summary()\n"
      ],
      "id": "10c61538",
      "execution_count": null,
      "outputs": []
    },
    {
      "cell_type": "code",
      "metadata": {
        "id": "903cdeff"
      },
      "source": [
        "model.compile(optimizer='adam',\n",
        "              loss='sparse_categorical_crossentropy', # Loss\n",
        "              metrics=['accuracy'])"
      ],
      "id": "903cdeff",
      "execution_count": null,
      "outputs": []
    },
    {
      "cell_type": "code",
      "metadata": {
        "id": "e3558f74"
      },
      "source": [
        "from tensorflow.keras.callbacks import EarlyStopping, ModelCheckpoint, TensorBoard\n",
        "from time import time"
      ],
      "id": "e3558f74",
      "execution_count": null,
      "outputs": []
    },
    {
      "cell_type": "code",
      "metadata": {
        "id": "5b851d6f"
      },
      "source": [
        "early_stop = EarlyStopping(monitor = 'val_loss',\n",
        "                            mode = 'min',\n",
        "                            min_delta = 0,\n",
        "                            patience = 10,\n",
        "                            restore_best_weights = True)\n",
        "\n",
        "checkpoint = ModelCheckpoint(filepath = 'CNN.h11', \n",
        "                             monitor = 'val_loss', \n",
        "                             mode ='min', \n",
        "                             save_best_only = True)\n",
        "\n",
        "tensorboard = TensorBoard(log_dir='SA_logs/{}'.format(time()))"
      ],
      "id": "5b851d6f",
      "execution_count": null,
      "outputs": []
    },
    {
      "cell_type": "code",
      "metadata": {
        "id": "926222db"
      },
      "source": [
        "hist = model.fit(X_train, \n",
        "                       y_train, \n",
        "                       epochs = 5, \n",
        "                       batch_size = 256 , \n",
        "                       validation_data = (X_validation, y_validation), \n",
        "                       callbacks=[early_stop,\n",
        "                                  checkpoint,\n",
        "                                  tensorboard])\n",
        " "
      ],
      "id": "926222db",
      "execution_count": null,
      "outputs": []
    },
    {
      "cell_type": "code",
      "metadata": {
        "id": "36c35537"
      },
      "source": [
        "loss, acc = model.evaluate(X_test, y_test)"
      ],
      "id": "36c35537",
      "execution_count": null,
      "outputs": []
    },
    {
      "cell_type": "code",
      "metadata": {
        "id": "510652cb"
      },
      "source": [
        "print(f\"Accuracy: {acc*100}\\nLoss: {loss}\")"
      ],
      "id": "510652cb",
      "execution_count": null,
      "outputs": []
    },
    {
      "cell_type": "code",
      "metadata": {
        "id": "a1bff513"
      },
      "source": [
        "from tensorflow.keras.models import load_model\n",
        "\n",
        "model = load_model(\"CNN.h1\")"
      ],
      "id": "a1bff513",
      "execution_count": null,
      "outputs": []
    },
    {
      "cell_type": "code",
      "metadata": {
        "id": "009edf72"
      },
      "source": [
        "from sklearn.metrics import (accuracy_score,\n",
        "                             confusion_matrix, classification_report)"
      ],
      "id": "009edf72",
      "execution_count": null,
      "outputs": []
    },
    {
      "cell_type": "code",
      "metadata": {
        "id": "d002592e"
      },
      "source": [
        "\n",
        "pred = np.argmax(model.predict(X_test), axis=1)\n",
        "\n",
        "# Classification Report\n",
        "print(classification_report(pred+1, (y_test+1),\n",
        "      target_names = ['1.Bog', \n",
        "                      '2.Fen',\n",
        "                      '3.Marsh',\n",
        "                      '4.Swamp',\n",
        "                      '5.Shallow_water',\n",
        "                      '6.Urban',\n",
        "                      '7.Deep_water',\n",
        "                      '8.Upland',\n",
        "                      ]))"
      ],
      "id": "d002592e",
      "execution_count": null,
      "outputs": []
    },
    {
      "cell_type": "code",
      "metadata": {
        "id": "56403432"
      },
      "source": [
        "############################################# classification confusion matrix\n",
        "\n",
        "y_pred = np.argmax(model.predict(X_test), axis=1)\n",
        "\n",
        "from sklearn.metrics import confusion_matrix\n",
        "import matplotlib.pyplot as plt\n",
        "\n",
        "mat = confusion_matrix(y_test+1, y_pred+1)\n",
        "#sns.heatmap(mat.T, square=True, annot=True, fmt='d', cbar=False)\n",
        "mat"
      ],
      "id": "56403432",
      "execution_count": null,
      "outputs": []
    },
    {
      "cell_type": "code",
      "metadata": {
        "id": "fb3ac3b7"
      },
      "source": [
        "pip install pyrsgis"
      ],
      "id": "fb3ac3b7",
      "execution_count": null,
      "outputs": []
    },
    {
      "cell_type": "code",
      "metadata": {
        "id": "70b848c7"
      },
      "source": [
        "pip install gdal"
      ],
      "id": "70b848c7",
      "execution_count": null,
      "outputs": []
    },
    {
      "cell_type": "code",
      "metadata": {
        "id": "abf6bfc3"
      },
      "source": [
        "pip install matplotlib"
      ],
      "id": "abf6bfc3",
      "execution_count": null,
      "outputs": []
    },
    {
      "cell_type": "code",
      "metadata": {
        "id": "e2a3cb8a"
      },
      "source": [
        "import numpy as np\n",
        "import os, glob\n",
        "import random\n",
        "from pyrsgis import raster"
      ],
      "id": "e2a3cb8a",
      "execution_count": null,
      "outputs": []
    },
    {
      "cell_type": "code",
      "metadata": {
        "id": "186b56a4"
      },
      "source": [
        "########################################################## Load a new multispectral image\n",
        "\n",
        "ds, featuresAvalon = raster.read('AvalonCNN.tif')\n",
        "\n",
        "# Generate image chips in the back-end\n",
        "def CNNdataGenerator(mxBands, kSize):\n",
        "    nBands, rows, cols = mxBands.shape\n",
        "    margin = math.floor(kSize/2)\n",
        "    mxBands = np.pad(mxBands, margin, mode='constant')[3:-3, :, :]\n",
        "\n",
        "    features = np.empty((rows*cols, kSize, kSize,nBands))\n",
        "\n",
        "    n = 0\n",
        "    for row in range(margin, rows+margin):\n",
        "        for col in range(margin, cols+margin):\n",
        "            feat = mxBands[:, row-margin:row+margin+1, col-margin:col+margin+1]\n",
        "\n",
        "            b1, b2, b3, b4, b5, b6, b7, b8, b9, b10, b11, b12, b13, b14, b15, b16, b17, b18, b19, b20, b21, b22, b23, b24, b25, b26, b27, b28 = feat\n",
        "            feat = np.dstack((b1, b2, b3, b4, b5, b6, b7, b8, b9, b10, b11, b12, b13, b14, b15, b16, b17, b18, b19, b20, b21, b22, b23, b24, b25, b26, b27, b28))\n",
        "\n",
        "            features[n, :, :, :] = feat\n",
        "            n += 1\n",
        "            \n",
        "    return(features)"
      ],
      "id": "186b56a4",
      "execution_count": null,
      "outputs": []
    },
    {
      "cell_type": "code",
      "metadata": {
        "id": "59a025db"
      },
      "source": [
        "pip install python-math"
      ],
      "id": "59a025db",
      "execution_count": null,
      "outputs": []
    },
    {
      "cell_type": "code",
      "metadata": {
        "id": "b53360bf"
      },
      "source": [
        "import math"
      ],
      "id": "b53360bf",
      "execution_count": null,
      "outputs": []
    },
    {
      "cell_type": "code",
      "metadata": {
        "id": "31d761a2"
      },
      "source": [
        "featuresAvalon.shape"
      ],
      "id": "31d761a2",
      "execution_count": null,
      "outputs": []
    },
    {
      "cell_type": "code",
      "metadata": {
        "id": "ef6af613"
      },
      "source": [
        "###################################################################### Call the function to generate features tensor\n",
        "\n",
        "new_features = CNNdataGenerator(featuresAvalon, kSize=7)\n",
        "print(new_features.shape)\n",
        "#new_features = tf.transpose(new_features, [0, 2, 3, 1])\n",
        "print('Shape of the new features', new_features.shape)"
      ],
      "id": "ef6af613",
      "execution_count": null,
      "outputs": []
    },
    {
      "cell_type": "code",
      "metadata": {
        "id": "47ad3b87"
      },
      "source": [
        "################################################################## Predict new data and export the probability raster\n",
        "\n",
        "newPredicted = np.argmax(model.predict(new_features), axis=1)\n",
        "#print(\"Shape of the predicted labels: \", newPredicted.shape)\n",
        "#newPredicted = newPredicted[:,1]\n",
        "newPredicted=newPredicted+1\n",
        "\n",
        "prediction = np.reshape(newPredicted, (ds.RasterYSize, ds.RasterXSize))"
      ],
      "id": "47ad3b87",
      "execution_count": null,
      "outputs": []
    },
    {
      "cell_type": "code",
      "metadata": {
        "id": "c177da2e"
      },
      "source": [
        "fig, ax=plt.subplots(figsize=(10,10))\n",
        "ax.imshow(prediction)"
      ],
      "id": "c177da2e",
      "execution_count": null,
      "outputs": []
    },
    {
      "cell_type": "code",
      "metadata": {
        "id": "de4134e0"
      },
      "source": [
        "############################################################### Exporting Raster Prediction into Google Drive\n",
        "\n",
        "outFile = ''/content/drive/MyDrive/DForest/CNN.tif''\n",
        "raster.export(prediction, ds, filename=outFile, dtype='float')"
      ],
      "id": "de4134e0",
      "execution_count": null,
      "outputs": []
    },
    {
      "cell_type": "code",
      "metadata": {
        "id": "ab7a17b4"
      },
      "source": [
        ""
      ],
      "id": "ab7a17b4",
      "execution_count": null,
      "outputs": []
    }
  ]
}
