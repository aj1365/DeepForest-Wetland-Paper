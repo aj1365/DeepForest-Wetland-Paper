{
  "nbformat": 4,
  "nbformat_minor": 0,
  "metadata": {
    "colab": {
      "name": "DeepForest-v1.ipynb",
      "provenance": [],
      "collapsed_sections": [],
      "authorship_tag": "ABX9TyOQCV26EipfrtUL77PTJYQP",
      "include_colab_link": true
    },
    "kernelspec": {
      "name": "python3",
      "display_name": "Python 3"
    },
    "language_info": {
      "name": "python"
    },
    "accelerator": "GPU"
  },
  "cells": [
    {
      "cell_type": "markdown",
      "metadata": {
        "id": "view-in-github",
        "colab_type": "text"
      },
      "source": [
        "<a href=\"https://colab.research.google.com/github/aj1365/DeepForestPaper/blob/main/DeepForest_v1.ipynb\" target=\"_parent\"><img src=\"https://colab.research.google.com/assets/colab-badge.svg\" alt=\"Open In Colab\"/></a>"
      ]
    },
    {
      "cell_type": "code",
      "metadata": {
        "id": "eTIFHHmpG017"
      },
      "source": [
        "######################################### Connecting to Google Drive\n",
        "\n",
        "from google.colab import drive\n",
        "drive.mount('/content/drive')"
      ],
      "execution_count": null,
      "outputs": []
    },
    {
      "cell_type": "code",
      "metadata": {
        "id": "8yLB7QcaHC2R"
      },
      "source": [
        "%cd /content/drive/MyDrive/DForest"
      ],
      "execution_count": null,
      "outputs": []
    },
    {
      "cell_type": "code",
      "metadata": {
        "id": "T5HmWdBWI4M9"
      },
      "source": [
        "############################## Importing the Deep Forest GitHub Repository\n",
        "\n",
        "!git clone https://github.com/kingfengji/gcForest.git"
      ],
      "execution_count": null,
      "outputs": []
    },
    {
      "cell_type": "code",
      "metadata": {
        "id": "uq6PeScuI-_V"
      },
      "source": [
        "############################### We can store it in our Google Drive as well (you need to change the library location)\n",
        "\n",
        "import sys\n",
        "sys.path.insert(0,'/content/drive/MyDrive/DForest/gcForest/lib')"
      ],
      "execution_count": null,
      "outputs": []
    },
    {
      "cell_type": "code",
      "metadata": {
        "id": "UhR9YhapHvAv"
      },
      "source": [
        "from gcforest.gcforest import GCForest"
      ],
      "execution_count": null,
      "outputs": []
    },
    {
      "cell_type": "code",
      "metadata": {
        "id": "kmgo_gzOHU8a"
      },
      "source": [
        "import argparse\n",
        "import numpy as np\n",
        "import sys\n",
        "import pickle\n",
        "from sklearn.ensemble import RandomForestClassifier\n",
        "from sklearn.metrics import accuracy_score\n",
        "sys.path.insert(0, \"lib\")\n"
      ],
      "execution_count": null,
      "outputs": []
    },
    {
      "cell_type": "code",
      "metadata": {
        "id": "DeXUAo3EPo3T"
      },
      "source": [
        "from sklearn.model_selection import train_test_split\n",
        "\n",
        "Data = np.loadtxt('DataAvalon2.csv', delimiter=',')\n",
        "\n",
        "X_train, X_test, y_train, y_test = train_test_split(Data[:,0:27],\n",
        "                                                    Data[:,28],\n",
        "                                                    stratify=Data[:,28],\n",
        "                                                    test_size=0.50,\n",
        "                                                    random_state=0)"
      ],
      "execution_count": null,
      "outputs": []
    },
    {
      "cell_type": "code",
      "metadata": {
        "id": "PcX_BeewQJdW"
      },
      "source": [
        "def parse_args():\n",
        "    parser = argparse.ArgumentParser()\n",
        "    parser.add_argument(\"--model\", dest=\"model\", type=str, default=None, help=\"gcfoest Net Model File\")\n",
        "    args = parser.parse_args()\n",
        "    return args\n"
      ],
      "execution_count": null,
      "outputs": []
    },
    {
      "cell_type": "code",
      "metadata": {
        "id": "ndvaR3xXlX7F"
      },
      "source": [
        "########################################## setting the Deep Forest parameters\n",
        "\n",
        "def get_toy_config():\n",
        "    config = {}\n",
        "    ca_config = {}\n",
        "    ca_config[\"random_state\"] = 0\n",
        "    ca_config[\"max_layers\"] = 20\n",
        "    ca_config[\"early_stopping_rounds\"] = 1\n",
        "    ca_config[\"n_classes\"] = 8\n",
        "    ca_config[\"estimators\"] = []\n",
        "    ca_config[\"estimators\"].append(\n",
        "            {\"n_folds\": 5, \"type\": \"XGBClassifier\", \"n_estimators\": 200, \"max_depth\": 5,\n",
        "             \"objective\": \"multi:softprob\", \"silent\": True, \"nthread\": -1, \"learning_rate\": 0.1} )\n",
        "    config[\"cascade\"] = ca_config\n",
        "    return config"
      ],
      "execution_count": null,
      "outputs": []
    },
    {
      "cell_type": "code",
      "metadata": {
        "id": "ft19n2nCT2QC"
      },
      "source": [
        "########################################## Training and predicting the classes with the Deep Forest\n",
        "\n",
        "config=get_toy_config()\n",
        "gc = GCForest(config)\n",
        "X_train_enc = gc.fit_transform(X_train, y_train-1)\n",
        "y_pred = gc.predict(X_test)\n",
        "acc = accuracy_score(y_test-1, y_pred)\n",
        "print(\"Test Accuracy of GcForest = {:.2f} %\".format(acc * 100))"
      ],
      "execution_count": null,
      "outputs": []
    },
    {
      "cell_type": "code",
      "metadata": {
        "id": "J_1XK2mYfIqb"
      },
      "source": [
        "############################################# classification metrices\n",
        "\n",
        "from sklearn import metrics\n",
        "\n",
        "print(metrics.classification_report(y_pred, y_test-1))"
      ],
      "execution_count": null,
      "outputs": []
    },
    {
      "cell_type": "code",
      "metadata": {
        "id": "t8XbPIzsnTlC"
      },
      "source": [
        "############################################# classification confusion matrix\n",
        "\n",
        "from sklearn.metrics import confusion_matrix\n",
        "import matplotlib.pyplot as plt\n",
        "\n",
        "mat = confusion_matrix(y_test-1, y_pred)\n",
        "mat"
      ],
      "execution_count": null,
      "outputs": []
    }
  ]
}