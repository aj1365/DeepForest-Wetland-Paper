{
  "nbformat": 4,
  "nbformat_minor": 0,
  "metadata": {
    "colab": {
      "name": "DeepForest-v2",
      "provenance": [],
      "collapsed_sections": [],
      "machine_shape": "hm",
      "include_colab_link": true
    },
    "kernelspec": {
      "name": "python3",
      "display_name": "Python 3"
    },
    "language_info": {
      "codemirror_mode": {
        "name": "ipython",
        "version": 3
      },
      "file_extension": ".py",
      "mimetype": "text/x-python",
      "name": "python",
      "nbconvert_exporter": "python",
      "pygments_lexer": "ipython3",
      "version": "3.6.7"
    }
  },
  "cells": [
    {
      "cell_type": "markdown",
      "metadata": {
        "id": "view-in-github",
        "colab_type": "text"
      },
      "source": [
        "<a href=\"https://colab.research.google.com/github/aj1365/DeepForestPaper/blob/main/DeepForest_v2.ipynb\" target=\"_parent\"><img src=\"https://colab.research.google.com/assets/colab-badge.svg\" alt=\"Open In Colab\"/></a>"
      ]
    },
    {
      "cell_type": "code",
      "metadata": {
        "id": "8amX146CuG77"
      },
      "source": [
        "######################################### Connecting to Google Drive\n",
        "\n",
        "from google.colab import drive\n",
        "drive.mount('/content/drive')\n"
      ],
      "execution_count": null,
      "outputs": []
    },
    {
      "cell_type": "code",
      "metadata": {
        "id": "OnzFGC9HuLtM"
      },
      "source": [
        "################# Setting the path in the Google Drive for the stored data (you need to change it according to the location of your data)\n",
        "\n",
        "%cd /content/drive/MyDrive/DForest\n"
      ],
      "execution_count": null,
      "outputs": []
    },
    {
      "cell_type": "code",
      "metadata": {
        "id": "P7mHkyFZuc-0"
      },
      "source": [
        "######################### Installing Deep Forest (current library)\n",
        "\n",
        "!pip install deep-forest\n"
      ],
      "execution_count": null,
      "outputs": []
    },
    {
      "cell_type": "code",
      "metadata": {
        "id": "BNfIPy5TukQ7"
      },
      "source": [
        "from sklearn.metrics import accuracy_score\n",
        "from deepforest import CascadeForestClassifier\n",
        "from sklearn.model_selection import train_test_split"
      ],
      "execution_count": null,
      "outputs": []
    },
    {
      "cell_type": "code",
      "metadata": {
        "id": "Px3N6M3eulFO"
      },
      "source": [
        "########################## Reading the treaining and test data\n",
        "\n",
        "from sklearn.model_selection import train_test_split\n",
        "import numpy as np\n",
        "\n",
        "\n",
        "Data = np.loadtxt('DataAvalon2.csv', delimiter=',')\n",
        "\n",
        "X_train, X_test, y_train, y_test = train_test_split(Data[:,0:27],\n",
        "                                                    Data[:,28],\n",
        "                                                    stratify=Data[:,28],\n",
        "                                                    test_size=0.50,\n",
        "                                                    random_state=0)"
      ],
      "execution_count": null,
      "outputs": []
    },
    {
      "cell_type": "code",
      "metadata": {
        "id": "mGS7xzxQu4m-"
      },
      "source": [
        "###################################### Setting the Deep Forest parameters\n",
        "\n",
        "model = CascadeForestClassifier(n_bins=250, \n",
        "                                bin_subsample=200000, \n",
        "                                bin_type='percentile', \n",
        "                                max_layers=20, \n",
        "                                criterion='gini', \n",
        "                                n_estimators=2, \n",
        "                                n_trees=200, \n",
        "                                max_depth=5, \n",
        "                                min_samples_leaf=2, \n",
        "                                use_predictor=True, \n",
        "                                predictor='xgboost', \n",
        "                                predictor_kwargs={}, \n",
        "                                backend='sklearn', \n",
        "                                n_tolerant_rounds=2, \n",
        "                                delta=1e-05, \n",
        "                                n_jobs=1, \n",
        "                                random_state=0, \n",
        "                                verbose=1)"
      ],
      "execution_count": null,
      "outputs": []
    },
    {
      "cell_type": "code",
      "metadata": {
        "id": "0AUHXGd0u1lt"
      },
      "source": [
        "#################################### Training the Deep Forest Model\n",
        "\n",
        "model.fit(X_train, y_train)\n",
        "y_pred = model.predict(X_test)\n",
        "\n",
        "ca = np.sum(y_pred == y_test) / y_test.shape[0]\n",
        "\n",
        "print(\"Classification accuracy: %.5f\" % ca)\n"
      ],
      "execution_count": null,
      "outputs": []
    },
    {
      "cell_type": "code",
      "metadata": {
        "id": "McciLWENunmE"
      },
      "source": [
        "############################################# classification metrics\n",
        "\n",
        "from sklearn import metrics\n",
        "\n",
        "print(metrics.classification_report(y_pred, y_test))"
      ],
      "execution_count": null,
      "outputs": []
    },
    {
      "cell_type": "code",
      "metadata": {
        "id": "_PrjbUKbu_Py"
      },
      "source": [
        "############################################# classification confusion matrix\n",
        "\n",
        "from sklearn.metrics import confusion_matrix\n",
        "import matplotlib.pyplot as plt\n",
        "\n",
        "mat = confusion_matrix(y_test, y_pred)\n",
        "\n",
        "mat"
      ],
      "execution_count": null,
      "outputs": []
    },
    {
      "cell_type": "code",
      "metadata": {
        "id": "Z08XHgr4vDgC"
      },
      "source": [
        "!pip install rasterio"
      ],
      "execution_count": null,
      "outputs": []
    },
    {
      "cell_type": "code",
      "metadata": {
        "id": "v_jI1gpivFer"
      },
      "source": [
        "!pip install geopandas"
      ],
      "execution_count": null,
      "outputs": []
    },
    {
      "cell_type": "code",
      "metadata": {
        "id": "AMhtrF-tvHyS"
      },
      "source": [
        "import rasterio\n",
        "from rasterio.mask import mask\n",
        "import geopandas as gpd\n",
        "import numpy as np\n",
        "from shapely.geometry import mapping\n",
        "import os\n",
        "\n",
        "import matplotlib.pyplot as plt\n",
        "from rasterio.plot import show\n",
        "from rasterio.plot import show_hist\n",
        "from rasterio.windows import Window\n",
        "from rasterio.plot import reshape_as_raster, reshape_as_image"
      ],
      "execution_count": null,
      "outputs": []
    },
    {
      "cell_type": "code",
      "metadata": {
        "id": "LvuPRXaVvJjS"
      },
      "source": [
        "################################################################# Reading the Raster data of the study area\n",
        "\n",
        "study_areafp=rasterio.open( 'Avalon.tif')\n",
        "Study_area2=study_areafp.read()\n",
        "\n",
        "# reshape the image\n",
        "reshaped_Study_area2=reshape_as_image(Study_area2)\n",
        "reshaped_Study_area2.shape"
      ],
      "execution_count": null,
      "outputs": []
    },
    {
      "cell_type": "code",
      "metadata": {
        "id": "7CTybGf3vLy7"
      },
      "source": [
        "############################################################## Removing nan and infinite values\n",
        "\n",
        "#reshaped_Study_area2[np.isfinite(reshaped_Study_area2)]=-1\n",
        "reshaped_Study_area2[np.isnan(reshaped_Study_area2)]=-1.0\n",
        "#reshaped_Study_area2"
      ],
      "execution_count": null,
      "outputs": []
    },
    {
      "cell_type": "code",
      "metadata": {
        "id": "sdOeJ0NkvNdL"
      },
      "source": [
        "nsamples, nx, ny = reshaped_Study_area2.shape\n",
        "d2_train_dataset = reshaped_Study_area2.reshape((nsamples*nx,ny))"
      ],
      "execution_count": null,
      "outputs": []
    },
    {
      "cell_type": "code",
      "metadata": {
        "id": "xIhZb55RvPCs"
      },
      "source": [
        "############################ Predicting the classes of raster data of the study area\n",
        "\n",
        "class_prediction2=model.predict(d2_train_dataset[:,0:27])\n"
      ],
      "execution_count": null,
      "outputs": []
    },
    {
      "cell_type": "code",
      "metadata": {
        "id": "wsIk3pNyvQq9"
      },
      "source": [
        "np.min(class_prediction2), np.max(class_prediction2)"
      ],
      "execution_count": null,
      "outputs": []
    },
    {
      "cell_type": "code",
      "metadata": {
        "id": "UH1693IWvSsS"
      },
      "source": [
        "# Reshape our classification map back into a 2D matrix so we can visualize it\n",
        "\n",
        "class_prediction2 = class_prediction2.reshape(reshaped_Study_area2[:, :, 0].shape)\n",
        "class_prediction2"
      ],
      "execution_count": null,
      "outputs": []
    },
    {
      "cell_type": "code",
      "metadata": {
        "id": "06Z4eXEeN_KR"
      },
      "source": [
        "################################################ Predicted image (you need to change it according to your classes)\n",
        "\n",
        "from matplotlib.patches import Patch, colors\n",
        "\n",
        "fig, ax = plt.subplots(figsize=(10, 8))\n",
        "\n",
        "cmapCHM = colors.ListedColormap(['lightgreen','darkgreen','yellow','purple','lightblue','red','darkblue','orange'])\n",
        "\n",
        "chm_plot = ax.imshow(class_prediction2,\n",
        "                     cmap=cmapCHM)\n",
        "\n",
        "ax.set_title(\"Predicted classes\")\n",
        "# Add a legend for labels\n",
        "legend_labels = {\"lightgreen\": \"Bog\", \"darkgreen\": \"Fen\", \"yellow\": \"Marsh\",\"purple\": \"Swamp\",\"lightblue\": \"Sh-water\",\"red\": \"Urban\",\"darkblue\": \"D-water\",\"orange\": \"Upland\"}\n",
        "\n",
        "patches = [Patch(color=color, label=label)\n",
        "           for color, label in legend_labels.items()]\n",
        "\n",
        "ax.legend(handles=patches,\n",
        "          bbox_to_anchor=(1.35, 1),\n",
        "          facecolor=\"white\")\n",
        "\n",
        "ax.set_axis_off()\n",
        "plt.show()"
      ],
      "execution_count": null,
      "outputs": []
    },
    {
      "cell_type": "code",
      "metadata": {
        "id": "q2xJw-KvOXzy"
      },
      "source": [
        "!pip install pyrsgis"
      ],
      "execution_count": null,
      "outputs": []
    },
    {
      "cell_type": "code",
      "metadata": {
        "id": "ThJmHwhTOWa6"
      },
      "source": [
        "from pyrsgis import raster"
      ],
      "execution_count": null,
      "outputs": []
    },
    {
      "cell_type": "code",
      "metadata": {
        "id": "PYnnbgPPOQoo"
      },
      "source": [
        "ds, featuresAvalon = raster.read('Avalon.tif')"
      ],
      "execution_count": null,
      "outputs": []
    },
    {
      "cell_type": "code",
      "metadata": {
        "id": "lpqgA6RrOkqf"
      },
      "source": [
        "################################################################################## Exporting Raster Prediction into Google Drive\n",
        "\n",
        "outFile = '/content/drive/MyDrive/CNN/DF.tif'\n",
        "raster.export(class_prediction2, ds, filename=outFile, dtype='float')"
      ],
      "execution_count": null,
      "outputs": []
    }
  ]
}
