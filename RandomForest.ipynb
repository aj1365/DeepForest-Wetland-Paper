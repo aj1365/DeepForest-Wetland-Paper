{
  "nbformat": 4,
  "nbformat_minor": 0,
  "metadata": {
    "colab": {
      "name": "RandomForest.ipynb",
      "provenance": [],
      "collapsed_sections": [],
      "authorship_tag": "ABX9TyPKvxIChyYx/DHUaG4oAusr",
      "include_colab_link": true
    },
    "kernelspec": {
      "name": "python3",
      "display_name": "Python 3"
    },
    "language_info": {
      "name": "python"
    }
  },
  "cells": [
    {
      "cell_type": "markdown",
      "metadata": {
        "id": "view-in-github",
        "colab_type": "text"
      },
      "source": [
        "<a href=\"https://colab.research.google.com/github/aj1365/DeepForestPaper/blob/main/RandomForest.ipynb\" target=\"_parent\"><img src=\"https://colab.research.google.com/assets/colab-badge.svg\" alt=\"Open In Colab\"/></a>"
      ]
    },
    {
      "cell_type": "code",
      "metadata": {
        "id": "cH3Oa_dwS-Jd"
      },
      "source": [
        "######################################### Connecting to Google Drive\n",
        "\n",
        "from google.colab import drive\n",
        "drive.mount('/content/drive')"
      ],
      "execution_count": null,
      "outputs": []
    },
    {
      "cell_type": "code",
      "metadata": {
        "colab": {
          "base_uri": "https://localhost:8080/"
        },
        "id": "IBRoYLxPULxI",
        "outputId": "090718fd-4b3d-49c0-b958-a432e942f7aa"
      },
      "source": [
        "%cd /content/drive/MyDrive/DForest"
      ],
      "execution_count": null,
      "outputs": [
        {
          "output_type": "stream",
          "text": [
            "/content/drive/MyDrive/DForest\n"
          ],
          "name": "stdout"
        }
      ]
    },
    {
      "cell_type": "code",
      "metadata": {
        "id": "k7PJsIOKUMn-"
      },
      "source": [
        "from sklearn.model_selection import train_test_split\n",
        "import numpy as np\n",
        "Data = np.loadtxt('DataAvalon2.csv', delimiter=',')\n",
        "\n",
        "X_train, X_test, y_train, y_test = train_test_split(Data[:,0:27],\n",
        "                                                    Data[:,28],\n",
        "                                                    stratify=Data[:,28],\n",
        "                                                    test_size=0.50,\n",
        "                                                    random_state=0)"
      ],
      "execution_count": null,
      "outputs": []
    },
    {
      "cell_type": "code",
      "metadata": {
        "id": "a0SNB4z7UVco"
      },
      "source": [
        "###################### Training the Random Forest and Decision Tree models\n",
        "\n",
        "from sklearn.ensemble import RandomForestClassifier\n",
        "from sklearn import tree\n",
        "\n",
        "model = RandomForestClassifier(n_estimators=200, random_state=0)\n",
        "#model= tree.DecisionTreeClassifier()\n",
        "model.fit(X_train, y_train)\n",
        "ypred = model.predict(X_test)\n",
        "ca = np.sum(ypred == y_test) / y_test.shape[0]\n",
        "\n",
        "print(\"Classification accuracy: %.5f\" % ca)"
      ],
      "execution_count": null,
      "outputs": []
    },
    {
      "cell_type": "code",
      "metadata": {
        "id": "kQvjBKcJUm67"
      },
      "source": [
        "############################################# classification metrics\n",
        "\n",
        "from sklearn import metrics\n",
        "\n",
        "print(metrics.classification_report(ypred, y_test))"
      ],
      "execution_count": null,
      "outputs": []
    },
    {
      "cell_type": "code",
      "metadata": {
        "id": "hPlCBoNiVjgJ"
      },
      "source": [
        "############################################# classification confusiion matrix\n",
        "\n",
        "import seaborn as sns\n",
        "from sklearn.metrics import confusion_matrix\n",
        "import matplotlib.pyplot as plt\n",
        "\n",
        "mat = confusion_matrix(y_test, ypred)\n",
        "\n",
        "\n",
        "#fig, ax = plt.subplots(figsize=(15, 8))\n",
        "#plot_confusion_matrix(model, X_test, y_test,ax=ax)\n",
        "\n",
        "#ax.set_title('Confusion Matrix')\n",
        "mat"
      ],
      "execution_count": null,
      "outputs": []
    },
    {
      "cell_type": "code",
      "metadata": {
        "id": "rPMBl589Xbpf"
      },
      "source": [
        "!pip install rasterio"
      ],
      "execution_count": null,
      "outputs": []
    },
    {
      "cell_type": "code",
      "metadata": {
        "id": "rcSElyxeXsOQ"
      },
      "source": [
        "!pip install geopandas"
      ],
      "execution_count": null,
      "outputs": []
    },
    {
      "cell_type": "code",
      "metadata": {
        "id": "DjwEpTPGXZpX"
      },
      "source": [
        "import rasterio\n",
        "from rasterio.mask import mask\n",
        "import geopandas as gpd\n",
        "import numpy as np\n",
        "from shapely.geometry import mapping\n",
        "import os\n",
        "\n",
        "import matplotlib.pyplot as plt\n",
        "from rasterio.plot import show\n",
        "from rasterio.plot import show_hist\n",
        "from rasterio.windows import Window\n",
        "from rasterio.plot import reshape_as_raster, reshape_as_image"
      ],
      "execution_count": null,
      "outputs": []
    },
    {
      "cell_type": "code",
      "metadata": {
        "id": "HYu-7nmBXz_d"
      },
      "source": [
        "\n",
        "study_areafp=rasterio.open('Avalon.tif')\n",
        "Study_area2=study_areafp.read()\n",
        "\n",
        "# reshape the image\n",
        "reshaped_Study_area2=reshape_as_image(Study_area2)\n",
        "reshaped_Study_area2.shape"
      ],
      "execution_count": null,
      "outputs": []
    },
    {
      "cell_type": "code",
      "metadata": {
        "id": "VZMx4ZXuYDBN"
      },
      "source": [
        "############################################################## Removing nan and infinite values\n",
        "\n",
        "#reshaped_Study_area2[np.isfinite(reshaped_Study_area2)]=-1\n",
        "reshaped_Study_area2[np.isnan(reshaped_Study_area2)]=-1.0\n",
        "#reshaped_Study_area2"
      ],
      "execution_count": null,
      "outputs": []
    },
    {
      "cell_type": "code",
      "metadata": {
        "id": "ZnJnAlolYG20"
      },
      "source": [
        "nsamples, nx, ny = reshaped_Study_area2.shape\n",
        "d2_train_dataset = reshaped_Study_area2.reshape((nsamples*nx,ny))"
      ],
      "execution_count": null,
      "outputs": []
    },
    {
      "cell_type": "code",
      "metadata": {
        "id": "6C4o3Df3YJZP"
      },
      "source": [
        "\n",
        "class_prediction2=model.predict(d2_train_dataset[:,0:27])"
      ],
      "execution_count": null,
      "outputs": []
    },
    {
      "cell_type": "code",
      "metadata": {
        "id": "6z8NJIwFYPO-"
      },
      "source": [
        "np.min(class_prediction2), np.max(class_prediction2)"
      ],
      "execution_count": null,
      "outputs": []
    },
    {
      "cell_type": "code",
      "metadata": {
        "id": "Yqunm3PUYSdF"
      },
      "source": [
        "# Reshape our classification map back into a 2D matrix so we can visualize it\n",
        "class_prediction2 = class_prediction2.reshape(reshaped_Study_area2[:, :, 0].shape)\n"
      ],
      "execution_count": null,
      "outputs": []
    },
    {
      "cell_type": "code",
      "metadata": {
        "id": "JX_t45rWYaLk"
      },
      "source": [
        "class_prediction2.shape"
      ],
      "execution_count": null,
      "outputs": []
    },
    {
      "cell_type": "code",
      "metadata": {
        "id": "OicnvftDYcec"
      },
      "source": [
        "################################################ Predicted image\n",
        "\n",
        "from matplotlib.patches import Patch, colors\n",
        "\n",
        "fig, ax = plt.subplots(figsize=(10, 8))\n",
        "\n",
        "cmapCHM = colors.ListedColormap(['lightgreen','darkgreen','yellow','purple','lightblue','red','darkblue','orange'])\n",
        "\n",
        "chm_plot = ax.imshow(class_prediction2,\n",
        "                     cmap=cmapCHM)\n",
        "\n",
        "ax.set_title(\"Predicted classes\")\n",
        "# Add a legend for labels\n",
        "legend_labels = {\"lightgreen\": \"Bog\", \"darkgreen\": \"Fen\", \"yellow\": \"Marsh\",\"purple\": \"Swamp\",\"lightblue\": \"Sh-water\",\"red\": \"Urban\",\"darkblue\": \"D-water\",\"orange\": \"Upland\"}\n",
        "\n",
        "patches = [Patch(color=color, label=label)\n",
        "           for color, label in legend_labels.items()]\n",
        "\n",
        "ax.legend(handles=patches,\n",
        "          bbox_to_anchor=(1.35, 1),\n",
        "          facecolor=\"white\")\n",
        "\n",
        "ax.set_axis_off()\n",
        "plt.show()"
      ],
      "execution_count": null,
      "outputs": []
    },
    {
      "cell_type": "code",
      "metadata": {
        "id": "FYkfjbDuY22l"
      },
      "source": [
        "!pip install pyrsgis"
      ],
      "execution_count": null,
      "outputs": []
    },
    {
      "cell_type": "code",
      "metadata": {
        "colab": {
          "base_uri": "https://localhost:8080/"
        },
        "id": "0SSBcICJY1FI",
        "outputId": "6ee615dc-3541-4135-ce71-996d8646eefa"
      },
      "source": [
        "from pyrsgis import raster"
      ],
      "execution_count": null,
      "outputs": [
        {
          "output_type": "stream",
          "text": [
            "Warning! matplotlib_scalebar library not found. You may not be able to export map directly.\n"
          ],
          "name": "stdout"
        }
      ]
    },
    {
      "cell_type": "code",
      "metadata": {
        "id": "ADt8qeTOZSPs"
      },
      "source": [
        "ds, featuresAvalon = raster.read('Avalon.tif')"
      ],
      "execution_count": null,
      "outputs": []
    },
    {
      "cell_type": "code",
      "metadata": {
        "id": "S1wj0VImYsMN"
      },
      "source": [
        "################################################################################## Exporting Raster Prediction into Google Drive\n",
        "\n",
        "outFile = '/content/drive/MyDrive/CNN/RF.tif'\n",
        "raster.export(class_prediction2, ds, filename=outFile, dtype='float')"
      ],
      "execution_count": null,
      "outputs": []
    }
  ]
}
