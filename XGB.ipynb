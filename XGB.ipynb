{
  "nbformat": 4,
  "nbformat_minor": 0,
  "metadata": {
    "colab": {
      "name": "XGB.ipynb",
      "provenance": [],
      "collapsed_sections": [],
      "authorship_tag": "ABX9TyP37D/FaJsxSUu1uxn3bW0c",
      "include_colab_link": true
    },
    "kernelspec": {
      "name": "python3",
      "display_name": "Python 3"
    },
    "language_info": {
      "name": "python"
    }
  },
  "cells": [
    {
      "cell_type": "markdown",
      "metadata": {
        "id": "view-in-github",
        "colab_type": "text"
      },
      "source": [
        "<a href=\"https://colab.research.google.com/github/aj1365/DeepForestPaper/blob/main/XGB.ipynb\" target=\"_parent\"><img src=\"https://colab.research.google.com/assets/colab-badge.svg\" alt=\"Open In Colab\"/></a>"
      ]
    },
    {
      "cell_type": "code",
      "metadata": {
        "id": "VVMiczYjKeLP"
      },
      "source": [
        "######################################### Connecting to Google Drive\n",
        "\n",
        "from google.colab import drive\n",
        "drive.mount('/content/drive')"
      ],
      "execution_count": null,
      "outputs": []
    },
    {
      "cell_type": "code",
      "metadata": {
        "id": "FHR7-VsGKoD2"
      },
      "source": [
        "%cd /content/drive/MyDrive/DForest"
      ],
      "execution_count": null,
      "outputs": []
    },
    {
      "cell_type": "code",
      "metadata": {
        "id": "aqCC7SHgLMd2"
      },
      "source": [
        "!pip install xgboost"
      ],
      "execution_count": null,
      "outputs": []
    },
    {
      "cell_type": "code",
      "metadata": {
        "id": "wA1AggUDLWLs"
      },
      "source": [
        "from xgboost import XGBClassifier\n",
        "from sklearn.metrics import accuracy_score\n",
        "import numpy as np"
      ],
      "execution_count": null,
      "outputs": []
    },
    {
      "cell_type": "code",
      "metadata": {
        "id": "LvpOwS8IKq3r"
      },
      "source": [
        "from sklearn.model_selection import train_test_split\n",
        "\n",
        "Data = np.loadtxt('DataAvalon2.csv', delimiter=',')\n",
        "\n",
        "X_train, X_test, y_train, y_test = train_test_split(Data[:,0:27],\n",
        "                                                    Data[:,28],\n",
        "                                                    stratify=Data[:,28],\n",
        "                                                    test_size=0.50,\n",
        "                                                    random_state=0)"
      ],
      "execution_count": null,
      "outputs": []
    },
    {
      "cell_type": "code",
      "metadata": {
        "id": "OuH7Dy0CLm4L"
      },
      "source": [
        "y_train=y_train-1\n",
        "y_test=y_test-1"
      ],
      "execution_count": null,
      "outputs": []
    },
    {
      "cell_type": "code",
      "metadata": {
        "id": "ZI6VdUoDXPGu"
      },
      "source": [
        "X_train.shape,X_test.shape"
      ],
      "execution_count": null,
      "outputs": []
    },
    {
      "cell_type": "code",
      "metadata": {
        "id": "9Yg-HWNpLtIl"
      },
      "source": [
        "np.min(y_train), np.max(y_train)"
      ],
      "execution_count": null,
      "outputs": []
    },
    {
      "cell_type": "code",
      "metadata": {
        "id": "VemtFqr8LQ2o"
      },
      "source": [
        "# fit model with training data\n",
        "\n",
        "model = XGBClassifier(max_depth=50,learning_rate=0.1,n_estimators=200)\n",
        "model.fit(X_train, y_train)\n",
        "\n",
        "y_pred = model.predict(X_test)\n",
        "ca = np.sum(y_pred == y_test) / y_test.shape[0]\n",
        "\n",
        "print(\"Classification accuracy: %.5f\" % ca)"
      ],
      "execution_count": null,
      "outputs": []
    },
    {
      "cell_type": "code",
      "metadata": {
        "id": "pY68Zohuyz-8"
      },
      "source": [
        "############################################# classification metrics\n",
        "from sklearn import metrics\n",
        "\n",
        "print(metrics.classification_report(y_pred, y_test))"
      ],
      "execution_count": null,
      "outputs": []
    },
    {
      "cell_type": "code",
      "metadata": {
        "id": "HK9c7Ptg0KWb"
      },
      "source": [
        "############################################# classification confusion matrix\n",
        "\n",
        "from sklearn.metrics import confusion_matrix\n",
        "import matplotlib.pyplot as plt\n",
        "\n",
        "mat = confusion_matrix(y_test, y_pred)\n",
        "#sns.heatmap(mat.T, square=True, annot=True, fmt='d', cbar=False)\n",
        "mat"
      ],
      "execution_count": null,
      "outputs": []
    },
    {
      "cell_type": "code",
      "metadata": {
        "id": "svDSaLge-3op"
      },
      "source": [
        "!pip install rasterio"
      ],
      "execution_count": null,
      "outputs": []
    },
    {
      "cell_type": "code",
      "metadata": {
        "id": "tBQ6AGGv_Oth"
      },
      "source": [
        "!pip install geopandas"
      ],
      "execution_count": null,
      "outputs": []
    },
    {
      "cell_type": "code",
      "metadata": {
        "id": "m7nRud5Y_V_0"
      },
      "source": [
        "import rasterio\n",
        "from rasterio.mask import mask\n",
        "import geopandas as gpd\n",
        "import numpy as np\n",
        "from shapely.geometry import mapping\n",
        "import os\n",
        "\n",
        "import matplotlib.pyplot as plt\n",
        "from rasterio.plot import show\n",
        "from rasterio.plot import show_hist\n",
        "from rasterio.windows import Window\n",
        "from rasterio.plot import reshape_as_raster, reshape_as_image"
      ],
      "execution_count": null,
      "outputs": []
    },
    {
      "cell_type": "code",
      "metadata": {
        "id": "qaPlOixq_ZTf"
      },
      "source": [
        "################################################################# predicting the study area\n",
        "\n",
        "study_areafp=rasterio.open('Avalon.tif')\n",
        "Study_area2=study_areafp.read()\n",
        "\n",
        "# reshape the image\n",
        "reshaped_Study_area2=reshape_as_image(Study_area2)\n",
        "reshaped_Study_area2.shape"
      ],
      "execution_count": null,
      "outputs": []
    },
    {
      "cell_type": "code",
      "metadata": {
        "id": "036NMps0_lnX"
      },
      "source": [
        "############################################################## Removing nan and infinite values\n",
        "\n",
        "#reshaped_Study_area2[np.isfinite(reshaped_Study_area2)]=-1\n",
        "reshaped_Study_area2[np.isnan(reshaped_Study_area2)]=-1.0\n",
        "#reshaped_Study_area2"
      ],
      "execution_count": null,
      "outputs": []
    },
    {
      "cell_type": "code",
      "metadata": {
        "id": "uXlavjwu_pKD"
      },
      "source": [
        "nsamples, nx, ny = reshaped_Study_area2.shape\n",
        "d2_train_dataset = reshaped_Study_area2.reshape((nsamples*nx,ny))"
      ],
      "execution_count": null,
      "outputs": []
    },
    {
      "cell_type": "code",
      "metadata": {
        "id": "UsH8dNQh_reh"
      },
      "source": [
        "#class_prediction = clf.predict(d2_train_dataset[:,0:27].astype('float64'))\n",
        "class_prediction2=model.predict(d2_train_dataset[:,0:27])"
      ],
      "execution_count": null,
      "outputs": []
    },
    {
      "cell_type": "code",
      "metadata": {
        "id": "HIRP1atiSSGm"
      },
      "source": [
        "class_prediction2=class_prediction2+1\n",
        "np.min(class_prediction2), np.max(class_prediction2)"
      ],
      "execution_count": null,
      "outputs": []
    },
    {
      "cell_type": "code",
      "metadata": {
        "id": "HShjSqKcSWFG"
      },
      "source": [
        "# Reshape our classification map back into a 2D matrix so we can visualize it\n",
        "class_prediction2 = class_prediction2.reshape(reshaped_Study_area2[:, :, 0].shape)\n",
        "class_prediction2"
      ],
      "execution_count": null,
      "outputs": []
    },
    {
      "cell_type": "code",
      "metadata": {
        "id": "Gc6LiCFiSbH0"
      },
      "source": [
        "################################################ Predicted image\n",
        "\n",
        "from matplotlib.patches import Patch, colors\n",
        "\n",
        "fig, ax = plt.subplots(figsize=(10, 8))\n",
        "\n",
        "cmapCHM = colors.ListedColormap(['lightgreen','darkgreen','yellow','purple','lightblue','red','darkblue','orange'])\n",
        "\n",
        "chm_plot = ax.imshow(class_prediction2,\n",
        "                     cmap=cmapCHM)\n",
        "\n",
        "ax.set_title(\"Predicted classes\")\n",
        "# Add a legend for labels\n",
        "legend_labels = {\"lightgreen\": \"Bog\", \"darkgreen\": \"Fen\", \"yellow\": \"Marsh\",\"purple\": \"Swamp\",\"lightblue\": \"Sh-water\",\"red\": \"Urban\",\"darkblue\": \"D-water\",\"orange\": \"Upland\"}\n",
        "\n",
        "patches = [Patch(color=color, label=label)\n",
        "           for color, label in legend_labels.items()]\n",
        "\n",
        "ax.legend(handles=patches,\n",
        "          bbox_to_anchor=(1.35, 1),\n",
        "          facecolor=\"white\")\n",
        "\n",
        "ax.set_axis_off()\n",
        "plt.show()"
      ],
      "execution_count": null,
      "outputs": []
    },
    {
      "cell_type": "code",
      "metadata": {
        "id": "ITPt0BKOSemW"
      },
      "source": [
        "!pip install pyrsgis"
      ],
      "execution_count": null,
      "outputs": []
    },
    {
      "cell_type": "code",
      "metadata": {
        "id": "1VhFcOU8SjXX"
      },
      "source": [
        "from pyrsgis import raster"
      ],
      "execution_count": null,
      "outputs": []
    },
    {
      "cell_type": "code",
      "metadata": {
        "id": "-MRAWyA1S2pN"
      },
      "source": [
        "ds, featuresAvalon = raster.read('Avalon.tif')"
      ],
      "execution_count": null,
      "outputs": []
    },
    {
      "cell_type": "code",
      "metadata": {
        "id": "OgYeEgTXS4Zt"
      },
      "source": [
        "################################################################################## Exporting Raster Prediction into Google Drive\n",
        "\n",
        "outFile = '/content/drive/MyDrive/CNN/XGB.tif'\n",
        "raster.export(class_prediction2, ds, filename=outFile, dtype='float')"
      ],
      "execution_count": null,
      "outputs": []
    }
  ]
}
